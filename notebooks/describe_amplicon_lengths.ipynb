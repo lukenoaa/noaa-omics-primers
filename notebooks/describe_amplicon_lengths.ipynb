{
 "cells": [
  {
   "cell_type": "code",
   "execution_count": 1,
   "id": "9f60b7df",
   "metadata": {},
   "outputs": [],
   "source": [
    "import pandas as pd\n",
    "import glob\n",
    "import os"
   ]
  },
  {
   "cell_type": "code",
   "execution_count": 2,
   "id": "337df527",
   "metadata": {},
   "outputs": [],
   "source": [
    "path = '../amplicon-lengths'\n",
    "assays = ['Bacteria-16S-V4V5-Parada', 'Eukarya-18S-V4-Stoeck-Piredda', 'Eukarya-18S-V9-AmaralZettler', 'Fish-12S-MiFish-Miya', 'Metazoa-COI-Leray-Geller']"
   ]
  },
  {
   "cell_type": "code",
   "execution_count": 9,
   "id": "a7a554e8",
   "metadata": {},
   "outputs": [
    {
     "name": "stdout",
     "output_type": "stream",
     "text": [
      "Assay: Bacteria-16S-V4V5-Parada\n",
      "count    69015.000000\n",
      "mean       372.498080\n",
      "std          4.943324\n",
      "min        230.000000\n",
      "25%        371.000000\n",
      "50%        373.000000\n",
      "75%        374.000000\n",
      "max        388.000000\n",
      "Name: 1, dtype: float64\n",
      "\n",
      "\n",
      "Assay: Eukarya-18S-V4-Stoeck-Piredda\n",
      "count    45820.000000\n",
      "mean       376.683610\n",
      "std         18.116684\n",
      "min        199.000000\n",
      "25%        377.000000\n",
      "50%        378.000000\n",
      "75%        380.000000\n",
      "max        498.000000\n",
      "Name: 1, dtype: float64\n",
      "\n",
      "\n",
      "Assay: Eukarya-18S-V9-AmaralZettler\n",
      "count    90190.000000\n",
      "mean       128.314370\n",
      "std          8.147449\n",
      "min        110.000000\n",
      "25%        125.000000\n",
      "50%        126.000000\n",
      "75%        129.000000\n",
      "max        226.000000\n",
      "Name: 1, dtype: float64\n",
      "\n",
      "\n",
      "Assay: Fish-12S-MiFish-Miya\n",
      "count    2270.000000\n",
      "mean      239.367841\n",
      "std        33.726990\n",
      "min       160.000000\n",
      "25%       251.750000\n",
      "50%       258.000000\n",
      "75%       258.000000\n",
      "max       267.000000\n",
      "Name: 1, dtype: float64\n",
      "\n",
      "\n",
      "Assay: Metazoa-COI-Leray-Geller\n",
      "count    170627.000000\n",
      "mean        322.792442\n",
      "std          21.352006\n",
      "min         196.000000\n",
      "25%         313.000000\n",
      "50%         313.000000\n",
      "75%         349.000000\n",
      "max         428.000000\n",
      "Name: 1, dtype: float64\n",
      "\n",
      "\n"
     ]
    }
   ],
   "source": [
    "for assay in assays:\n",
    "    df_assay = pd.DataFrame()\n",
    "    assay_dir = f\"{path}/{assay}\"\n",
    "    tsv_files = glob.glob(os.path.join(assay_dir, \"*.tsv\"))\n",
    "    for tsv_file in tsv_files:\n",
    "        df = pd.read_csv(tsv_file, sep=\"\\t\", header=None)\n",
    "        df_assay = pd.concat([df_assay, df], ignore_index=True)\n",
    "    print(f\"Assay: {assay}\")\n",
    "    print(df_assay[1].describe())\n",
    "    print(\"\\n\")"
   ]
  },
  {
   "cell_type": "code",
   "execution_count": null,
   "id": "882bc910",
   "metadata": {},
   "outputs": [],
   "source": []
  }
 ],
 "metadata": {
  "kernelspec": {
   "display_name": "pandas",
   "language": "python",
   "name": "python3"
  },
  "language_info": {
   "codemirror_mode": {
    "name": "ipython",
    "version": 3
   },
   "file_extension": ".py",
   "mimetype": "text/x-python",
   "name": "python",
   "nbconvert_exporter": "python",
   "pygments_lexer": "ipython3",
   "version": "3.12.2"
  }
 },
 "nbformat": 4,
 "nbformat_minor": 5
}
